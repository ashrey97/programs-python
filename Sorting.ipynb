{
 "cells": [
  {
   "cell_type": "code",
   "execution_count": null,
   "metadata": {
    "collapsed": true
   },
   "outputs": [],
   "source": [
    "Bubble Sort :"
   ]
  },
  {
   "cell_type": "code",
   "execution_count": 1,
   "metadata": {},
   "outputs": [
    {
     "name": "stdout",
     "output_type": "stream",
     "text": [
      "Enter Array : 9 1 3 5 0\n",
      "[1, 3, 5, 0, 9]\n",
      "[1, 3, 0, 5, 9]\n",
      "[1, 0, 3, 5, 9]\n",
      "[0, 1, 3, 5, 9]\n"
     ]
    }
   ],
   "source": [
    "def bubblesort( arr):\n",
    "    for i in range(0, len( arr)):\n",
    "        #flag for removing extra passes\n",
    "        sorted = True\n",
    "        #iterating j while removing bubbled elements\n",
    "        for j in range(0, len( arr) - i - 1):\n",
    "            if arr[j+1] < arr[j]:\n",
    "                arr[j+1], arr[j] = arr[j], arr[j+1]\n",
    "                sorted = False\n",
    "        if sorted:\n",
    "            return arr\n",
    "        print arr\n",
    "\n",
    "def main():\n",
    "    arr = [int(x) for x in raw_input(\"Enter Array : \").split()]\n",
    "    arr = bubblesort( arr)\n",
    "\n",
    "if __name__ == \"__main__\":\n",
    "    main()\n",
    "    "
   ]
  },
  {
   "cell_type": "code",
   "execution_count": null,
   "metadata": {
    "collapsed": true
   },
   "outputs": [],
   "source": [
    "Insertion Sort :"
   ]
  },
  {
   "cell_type": "code",
   "execution_count": 2,
   "metadata": {},
   "outputs": [
    {
     "name": "stdout",
     "output_type": "stream",
     "text": [
      "Enter Array : 9 1 3 5 0\n",
      "[1, 9, 3, 5, 0]\n",
      "[1, 3, 9, 5, 0]\n",
      "[1, 3, 5, 9, 0]\n",
      "[0, 1, 3, 5, 9]\n",
      "[0, 1, 3, 5, 9]\n"
     ]
    }
   ],
   "source": [
    "def insertionsort( arr):\n",
    "    for i in range(1, len( arr)):\n",
    "        #element to insert\n",
    "        nextelem = arr[i]\n",
    "        #last position of sorted array\n",
    "        j = i - 1\n",
    "        while j>=0 and nextelem < arr[j]:\n",
    "                #shifting the array for insertion\n",
    "                arr[j+1] = arr[j]\n",
    "                j -= 1\n",
    "        #insertion\n",
    "        arr[j+1] = nextelem\n",
    "        print arr\n",
    "    return arr\n",
    "\n",
    "def main():\n",
    "    arr = [int(x) for x in raw_input(\"Enter Array : \").split()]\n",
    "    arr = insertionsort( arr)\n",
    "    print arr\n",
    "\n",
    "if __name__ == \"__main__\":\n",
    "    main()"
   ]
  },
  {
   "cell_type": "code",
   "execution_count": null,
   "metadata": {
    "collapsed": true
   },
   "outputs": [],
   "source": [
    "Selection Sort :"
   ]
  },
  {
   "cell_type": "code",
   "execution_count": 3,
   "metadata": {},
   "outputs": [
    {
     "name": "stdout",
     "output_type": "stream",
     "text": [
      "Enter Array : 12 11 13 2 6\n",
      "[2, 11, 13, 12, 6]\n",
      "[2, 6, 13, 12, 11]\n",
      "[2, 6, 11, 12, 13]\n"
     ]
    }
   ],
   "source": [
    "def selectionsort( arr):\n",
    "    for i in range(0, len( arr)):\n",
    "        min = i\n",
    "        sorted = True\n",
    "        for j in range(i + 1, len(arr)):\n",
    "            #searching for min element\n",
    "            if arr[j] < arr[min]:\n",
    "                min = j\n",
    "                sorted = False\n",
    "        #swapping min with first element of unsorted array\n",
    "        arr[i], arr[min] = arr[min], arr[i]\n",
    "        if sorted:\n",
    "            return arr\n",
    "        print arr\n",
    "\n",
    "def main():\n",
    "    arr = [int(x) for x in raw_input(\"Enter Array : \").split()]\n",
    "    arr = selectionsort( arr)\n",
    "\n",
    "if __name__ == \"__main__\":\n",
    "    main()"
   ]
  },
  {
   "cell_type": "code",
   "execution_count": null,
   "metadata": {
    "collapsed": true
   },
   "outputs": [],
   "source": [
    "Counting Sort :"
   ]
  },
  {
   "cell_type": "code",
   "execution_count": 4,
   "metadata": {},
   "outputs": [
    {
     "name": "stdout",
     "output_type": "stream",
     "text": [
      "Enter Array (0 - 256): 1 2 4 1 2 3 0 1 2 2 1 9 3\n",
      "[0, 1, 1, 1, 1, 2, 2, 2, 2, 3, 3, 4, 9]\n"
     ]
    }
   ],
   "source": [
    "count = [0]*256\n",
    "\n",
    "def countingsort(arr):\n",
    "    out = [-1]*256\n",
    "    #counting\n",
    "    for x in arr:\n",
    "        count[x] += 1\n",
    "    #updating count\n",
    "    for i in range(0, len(count)):\n",
    "        count[i] = count[i-1] + count[i]    \n",
    "    #storing output\n",
    "    for x in arr:\n",
    "        out[count[x] - 1] = x\n",
    "        count[x] -= 1\n",
    "    #cleaning output\n",
    "    while -1 in out:\n",
    "        out.remove(-1)\n",
    "    return out\n",
    "\n",
    "def main():\n",
    "\tarr = [int(x) for x in raw_input(\"Enter Array (0 - 256): \").split()]\n",
    "\tarr = countingsort(arr)\n",
    "\tprint arr\n",
    "\t\n",
    "if __name__ == \"__main__\":\n",
    "\tmain()"
   ]
  },
  {
   "cell_type": "code",
   "execution_count": null,
   "metadata": {
    "collapsed": true
   },
   "outputs": [],
   "source": [
    "Quick Sort :"
   ]
  },
  {
   "cell_type": "code",
   "execution_count": 5,
   "metadata": {},
   "outputs": [
    {
     "name": "stdout",
     "output_type": "stream",
     "text": [
      "Enter Array :1 13 1 24 23 5 2 5 3 7 67 56 8 23  164 6\n",
      "[1, 1, 2, 3, 5, 5, 6, 7, 8, 13, 23, 23, 24, 56, 67, 164]\n"
     ]
    }
   ],
   "source": [
    "def quicksort( a, low, high):\n",
    "\tif low < high:\n",
    "\t\tpi=partition( a, low, high)\n",
    "\t\tquicksort(a, low, pi-1)\n",
    "\t\tquicksort(a, pi+1, high)\n",
    "\n",
    "def partition( a, low, high):\n",
    "\tpivot = a[high]\n",
    "\ti=low - 1\n",
    "\tfor j in range(low, high):\n",
    "\t\tif a[j] <= pivot:\n",
    "\t\t\ti += 1\n",
    "\t\t\ta[i], a[j] = a[j], a[i]\n",
    "\ta[i + 1], a[high] = a[high], a[i + 1]\n",
    "\treturn i + 1\n",
    "\n",
    "def main():\n",
    "\tarr = [int(x) for x in raw_input(\"Enter Array :\").split()]\n",
    "\tquicksort(arr, 0, len(arr) - 1)\n",
    "\tprint arr\t\t\t\t\n",
    "\t\n",
    "if __name__ == \"__main__\":\n",
    "\tmain()"
   ]
  }
 ],
 "metadata": {
  "kernelspec": {
   "display_name": "Python 2",
   "language": "python",
   "name": "python2"
  },
  "language_info": {
   "codemirror_mode": {
    "name": "ipython",
    "version": 2
   },
   "file_extension": ".py",
   "mimetype": "text/x-python",
   "name": "python",
   "nbconvert_exporter": "python",
   "pygments_lexer": "ipython2",
   "version": "2.7.13"
  }
 },
 "nbformat": 4,
 "nbformat_minor": 2
}
